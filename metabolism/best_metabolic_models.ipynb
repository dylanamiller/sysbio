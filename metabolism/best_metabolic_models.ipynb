{
 "cells": [
  {
   "cell_type": "code",
   "execution_count": null,
   "id": "d361f5cc-758e-4367-adea-5933d396268c",
   "metadata": {},
   "outputs": [],
   "source": [
    "# https://pmc.ncbi.nlm.nih.gov/articles/PMC5643013/"
   ]
  },
  {
   "cell_type": "code",
   "execution_count": null,
   "id": "5dafea33-ad21-44a0-8ec4-0a640c5ce459",
   "metadata": {},
   "outputs": [],
   "source": [
    "# For a simple irreversible reaction that converts A into B, the mass-action formulation is\n",
    "# Ȧ = −k · A, Ḃ = k · A. Thus, degradation and production are linear functions of A with a rate k.\n",
    "# If A and B are converted into C, the model is represented as Ȧ = Ḃ = −κ · A · B, Ċ = κ · A · B,\n",
    "# where κ is again a rate constant.\n",
    "\n",
    "# It is important to note that many models in biology are direct derivatives of these formulations119;\n",
    "# they include Michaelis-Menten and Hill functions1, 2, 120, SIR models121 for the spread of infectious\n",
    "# diseases, and Lotka-Volterra models122–125.\n",
    "\n",
    "# Michaelis-Menten rate law (MMRL) has been the undisputed workhorse of metabolic modeling\n",
    "# Initially formulated as a set of differential equations, describing the binding of substrate\n",
    "# to enzyme and the generation of product, as discussed before, the power of the rate law came\n",
    "# from assumptions that are mostly true for experiments in vivo"
   ]
  },
  {
   "cell_type": "code",
   "execution_count": null,
   "id": "d1d55373-2eeb-4984-880e-73835181b093",
   "metadata": {},
   "outputs": [],
   "source": [
    "using Pkg\n",
    "Pkg.activate(\"..\")\n",
    "Pkg.status()"
   ]
  },
  {
   "cell_type": "code",
   "execution_count": null,
   "id": "6a589916-bc3b-4eaf-be1f-92d63f127516",
   "metadata": {},
   "outputs": [],
   "source": [
    "using JuMP, HiGHS, DifferentialEquations"
   ]
  },
  {
   "cell_type": "code",
   "execution_count": null,
   "id": "8edc775c-da37-4c52-981a-d22fe048a21b",
   "metadata": {},
   "outputs": [],
   "source": [
    "# Suppose we have:\n",
    "# 1) A constraint-based metabolic model (neuron/astrocyte), call it \"brain_met_model\"\n",
    "# 2) An ODE or difference equation for Aβ or tau pathology\n",
    "\n",
    "# Example ODE for Aβ or a \"damage\" variable\n",
    "function damage_ode!(du, u, p, t)\n",
    "    # u = [D], a measure of damage/pathology\n",
    "    D = u[1]\n",
    "    # Example: dD/dt = alpha*A_production - beta*clearance - gamma*metabolic_support\n",
    "    # We'll add \"metabolic_support\" from the flux results to show feedback\n",
    "    alpha, beta = p[1], p[2]\n",
    "    metabolic_support = p[3]  # updated from FBA each iteration\n",
    "    du[1] = alpha - beta*D - gamma*metabolic_support\n",
    "end\n",
    "\n",
    "# We'll do a time-stepping approach:\n",
    "D0 = [0.0]       # initial damage\n",
    "params = [0.1, 0.01, 0.0]   # alpha, beta, metabolic_support=0.0 initially\n",
    "tspan = (0.0, 100.0)\n",
    "\n",
    "# Discretize time for simplicity:\n",
    "dt = 1.0\n",
    "t_steps = collect(tspan[1]:dt:tspan[2])\n",
    "\n",
    "D_values = Float64[]\n",
    "\n",
    "# Initialize damage\n",
    "D_curr = D0[1]\n",
    "\n",
    "# Build or load your metabolic model in JuMP (toy version here):\n",
    "brain_model = Model(HiGHS.Optimizer)\n",
    "# ... define variables, constraints, objective, etc. ...\n",
    "# Suppose we track an \"ATP_production\" reaction or flux\n",
    "\n",
    "for (i, t) in enumerate(t_steps)\n",
    "    # 1) Modify metabolic constraints based on damage D_curr\n",
    "    # For example, reduce max flux for respiration if damage is high:\n",
    "    # (Pseudo-illustration; you'd do something like:)\n",
    "    # respiration_rxn_max = 100*(1 - 0.5*D_curr)\n",
    "    # set_upper_bound(respiration_rxn, respiration_rxn_max)\n",
    "    \n",
    "    # 2) Solve FBA with updated constraints\n",
    "    optimize!(brain_model)\n",
    "    \n",
    "    # 3) Extract \"metabolic_support\" (e.g. flux of ATP production or key reaction)\n",
    "    # Suppose it's the flux variable at index fluxATP\n",
    "    fluxATP = 10.0  # placeholder, e.g. value(flux_var[fluxATP])\n",
    "    \n",
    "    # 4) Use fluxATP to update the ODE for D(t)\n",
    "    # We'll do an Euler step to keep it simple\n",
    "    alpha, beta = 0.1, 0.01\n",
    "    gamma = 0.001\n",
    "    dDdt = alpha - beta*D_curr - gamma*fluxATP\n",
    "    D_next = D_curr + dDdt*dt\n",
    "    \n",
    "    # Store results\n",
    "    push!(D_values, D_curr)\n",
    "    \n",
    "    # Move to next\n",
    "    D_curr = D_next\n",
    "end\n",
    "\n",
    "println(\"Damage values over time:\", D_values)"
   ]
  },
  {
   "cell_type": "code",
   "execution_count": null,
   "id": "d7a90a9e-3c0b-445a-b514-aca55337845b",
   "metadata": {},
   "outputs": [],
   "source": []
  }
 ],
 "metadata": {
  "kernelspec": {
   "display_name": "Julia 1.11.3",
   "language": "julia",
   "name": "julia-1.11"
  },
  "language_info": {
   "file_extension": ".jl",
   "mimetype": "application/julia",
   "name": "julia",
   "version": "1.11.3"
  }
 },
 "nbformat": 4,
 "nbformat_minor": 5
}
